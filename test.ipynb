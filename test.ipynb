{
 "cells": [
  {
   "cell_type": "code",
   "execution_count": 4,
   "metadata": {},
   "outputs": [
    {
     "name": "stderr",
     "output_type": "stream",
     "text": [
      "/tmp/ipykernel_2157/3488371444.py:14: FutureWarning: A value is trying to be set on a copy of a DataFrame or Series through chained assignment using an inplace method.\n",
      "The behavior will change in pandas 3.0. This inplace method will never work because the intermediate object on which we are setting values always behaves as a copy.\n",
      "\n",
      "For example, when doing 'df[col].method(value, inplace=True)', try using 'df.method({col: value}, inplace=True)' or df[col] = df[col].method(value) instead, to perform the operation inplace on the original object.\n",
      "\n",
      "\n",
      "  raw_df[\"QT_Category\"].ffill(inplace=True)\n"
     ]
    }
   ],
   "source": [
    "import pandas as pd\n",
    "import json\n",
    "\n",
    "# sheet link\n",
    "file_link = \"https://docs.google.com/spreadsheets/d/1iAXQKhULnSwcWosUTARVahFZrHxmj1wBLZMoPSdKkxY/export?format=csv&gid=1402403750\"\n",
    "\n",
    "df = pd.read_csv(file_link)\n",
    "\n",
    "# Selecting relevant columns\n",
    "raw_df = df.iloc[:, :6]\n",
    "raw_df.dropna(how=\"all\", inplace=True)\n",
    "\n",
    "# Fill empty 'QT_Category' cells forward\n",
    "raw_df[\"QT_Category\"].ffill(inplace=True)\n",
    "\n",
    "# Rename columns as per reqd\n",
    "raw_df.rename(columns={'QT_Category': 'category_name', 'QT_Sub Category': 'sub_category_name'}, inplace=True)\n",
    "\n",
    "raw_df.columns = [i.strip() for i in raw_df.columns]"
   ]
  },
  {
   "cell_type": "code",
   "execution_count": 17,
   "metadata": {},
   "outputs": [
    {
     "data": {
      "text/plain": [
       "True"
      ]
     },
     "execution_count": 17,
     "metadata": {},
     "output_type": "execute_result"
    }
   ],
   "source": [
    "row.get(\"L2\") is None"
   ]
  },
  {
   "cell_type": "code",
   "execution_count": 1,
   "metadata": {},
   "outputs": [
    {
     "name": "stdout",
     "output_type": "stream",
     "text": [
      "https://docs.google.com/spreadsheets/d/1iAXQKhULnSwcWosUTARVahFZrHxmj1wBLZMoPSdKkxY/export?format=csv&gid=1402403750\n",
      "https://docs.google.com/spreadsheets/d/1iAXQKhULnSwcWosUTARVahFZrHxmj1wBLZMoPSdKkxY/export?format=csv&gid=1402403750\n"
     ]
    },
    {
     "name": "stderr",
     "output_type": "stream",
     "text": [
      "  0%|          | 0/8074 [00:00<?, ?it/s]"
     ]
    },
    {
     "name": "stdout",
     "output_type": "stream",
     "text": [
      "[\n"
     ]
    },
    {
     "name": "stderr",
     "output_type": "stream",
     "text": [
      "\n"
     ]
    }
   ],
   "source": [
    "from medspa_ai.configuration.gcloud_syncer import GSheetSync\n",
    "\n",
    "\n",
    "sheet_puller = GSheetSync()\n",
    "\n",
    "sheet_puller.sync_input_diagnosis_coll_from_gsheet()"
   ]
  },
  {
   "cell_type": "code",
   "execution_count": 6,
   "metadata": {},
   "outputs": [],
   "source": [
    "import json\n",
    "a = json.loads(sheet_puller.df.to_json(orient='records'))"
   ]
  },
  {
   "cell_type": "code",
   "execution_count": 7,
   "metadata": {},
   "outputs": [
    {
     "data": {
      "text/plain": [
       "{'category_name': 'Skin Type',\n",
       " 'sub_category_name': 'Oil',\n",
       " 'L1': 'Oily',\n",
       " 'L2': None,\n",
       " 'L3': None,\n",
       " 'L4': None,\n",
       " 'category_slug': 'skin_type'}"
      ]
     },
     "execution_count": 7,
     "metadata": {},
     "output_type": "execute_result"
    }
   ],
   "source": [
    "a[0]"
   ]
  },
  {
   "cell_type": "code",
   "execution_count": null,
   "metadata": {},
   "outputs": [],
   "source": []
  }
 ],
 "metadata": {
  "kernelspec": {
   "display_name": "venv",
   "language": "python",
   "name": "python3"
  },
  "language_info": {
   "codemirror_mode": {
    "name": "ipython",
    "version": 3
   },
   "file_extension": ".py",
   "mimetype": "text/x-python",
   "name": "python",
   "nbconvert_exporter": "python",
   "pygments_lexer": "ipython3",
   "version": "3.12.1"
  }
 },
 "nbformat": 4,
 "nbformat_minor": 2
}
